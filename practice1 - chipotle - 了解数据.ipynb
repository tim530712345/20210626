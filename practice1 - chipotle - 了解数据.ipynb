{
  "nbformat": 4,
  "nbformat_minor": 0,
  "metadata": {
    "kernelspec": {
      "display_name": "Python 3",
      "language": "python",
      "name": "python3"
    },
    "language_info": {
      "codemirror_mode": {
        "name": "ipython",
        "version": 3
      },
      "file_extension": ".py",
      "mimetype": "text/x-python",
      "name": "python",
      "nbconvert_exporter": "python",
      "pygments_lexer": "ipython3",
      "version": "3.7.4"
    },
    "colab": {
      "name": "practice1 - chipotle - 了解数据.ipynb",
      "provenance": []
    }
  },
  "cells": [
    {
      "cell_type": "markdown",
      "metadata": {
        "id": "cG_fSvHyO5ka"
      },
      "source": [
        "# Chipotle快餐数据 - 了解数据"
      ]
    },
    {
      "cell_type": "markdown",
      "metadata": {
        "id": "YlD6JtIDO5kb"
      },
      "source": [
        "![](https://github.com/tim530712345/20210626/blob/main/images/1.jpeg?raw=1)"
      ]
    },
    {
      "cell_type": "markdown",
      "metadata": {
        "id": "4MFcKjraO5kc"
      },
      "source": [
        "### 1. 从文件中加载数据，并查看数据前3行"
      ]
    },
    {
      "cell_type": "code",
      "metadata": {
        "id": "oO24r5XdO5kd"
      },
      "source": [
        "# 导入pandas库并命名为pd\n",
        "import pandas as pd"
      ],
      "execution_count": 4,
      "outputs": []
    },
    {
      "cell_type": "code",
      "metadata": {
        "id": "7pVzi6eXO5kd"
      },
      "source": [
        ""
      ],
      "execution_count": null,
      "outputs": []
    },
    {
      "cell_type": "code",
      "metadata": {
        "id": "JKJEsAkIO5ke"
      },
      "source": [
        "# 加载数据\n",
        "chipo = pd.read_csv('chipotle.tsv', sep='\\t') # 分隔符號為tab鍵"
      ],
      "execution_count": 8,
      "outputs": []
    },
    {
      "cell_type": "code",
      "metadata": {
        "id": "wzJMvraDO5kf",
        "outputId": "9c5f0ad5-b391-4261-e753-05d2277ef308",
        "colab": {
          "base_uri": "https://localhost:8080/",
          "height": 142
        }
      },
      "source": [
        "chipo.head(3)"
      ],
      "execution_count": 6,
      "outputs": [
        {
          "output_type": "execute_result",
          "data": {
            "text/html": [
              "<div>\n",
              "<style scoped>\n",
              "    .dataframe tbody tr th:only-of-type {\n",
              "        vertical-align: middle;\n",
              "    }\n",
              "\n",
              "    .dataframe tbody tr th {\n",
              "        vertical-align: top;\n",
              "    }\n",
              "\n",
              "    .dataframe thead th {\n",
              "        text-align: right;\n",
              "    }\n",
              "</style>\n",
              "<table border=\"1\" class=\"dataframe\">\n",
              "  <thead>\n",
              "    <tr style=\"text-align: right;\">\n",
              "      <th></th>\n",
              "      <th>order_id</th>\n",
              "      <th>quantity</th>\n",
              "      <th>item_name</th>\n",
              "      <th>choice_description</th>\n",
              "      <th>item_price</th>\n",
              "    </tr>\n",
              "  </thead>\n",
              "  <tbody>\n",
              "    <tr>\n",
              "      <th>0</th>\n",
              "      <td>1</td>\n",
              "      <td>1</td>\n",
              "      <td>Chips and Fresh Tomato Salsa</td>\n",
              "      <td>NaN</td>\n",
              "      <td>$2.39</td>\n",
              "    </tr>\n",
              "    <tr>\n",
              "      <th>1</th>\n",
              "      <td>1</td>\n",
              "      <td>1</td>\n",
              "      <td>Izze</td>\n",
              "      <td>[Clementine]</td>\n",
              "      <td>$3.39</td>\n",
              "    </tr>\n",
              "    <tr>\n",
              "      <th>2</th>\n",
              "      <td>1</td>\n",
              "      <td>1</td>\n",
              "      <td>Nantucket Nectar</td>\n",
              "      <td>[Apple]</td>\n",
              "      <td>$3.39</td>\n",
              "    </tr>\n",
              "  </tbody>\n",
              "</table>\n",
              "</div>"
            ],
            "text/plain": [
              "   order_id  quantity  ... choice_description item_price\n",
              "0         1         1  ...                NaN     $2.39 \n",
              "1         1         1  ...       [Clementine]     $3.39 \n",
              "2         1         1  ...            [Apple]     $3.39 \n",
              "\n",
              "[3 rows x 5 columns]"
            ]
          },
          "metadata": {
            "tags": []
          },
          "execution_count": 6
        }
      ]
    },
    {
      "cell_type": "code",
      "metadata": {
        "id": "eLwKZ3bqO5kj",
        "outputId": "06eb0a57-2f91-41d2-f185-a048a36ad339",
        "colab": {
          "base_uri": "https://localhost:8080/"
        }
      },
      "source": [
        "# 查看各列的数据类型 dtypes\n",
        "chipo.dtypes"
      ],
      "execution_count": 9,
      "outputs": [
        {
          "output_type": "execute_result",
          "data": {
            "text/plain": [
              "order_id               int64\n",
              "quantity               int64\n",
              "item_name             object\n",
              "choice_description    object\n",
              "item_price            object\n",
              "dtype: object"
            ]
          },
          "metadata": {
            "tags": []
          },
          "execution_count": 9
        }
      ]
    },
    {
      "cell_type": "code",
      "metadata": {
        "id": "cOsA0yA8O5km"
      },
      "source": [
        "# 将item_price列转换为数字类型\n",
        "# apply 是一個欄位資料做資料的運算後來覆蓋原始資料的處理\n",
        "chipo.item_price = chipo.item_price.apply(lambda x: float(x[1:])) # $ 以後的文字轉成浮點數"
      ],
      "execution_count": 10,
      "outputs": []
    },
    {
      "cell_type": "code",
      "metadata": {
        "id": "otbilCAhO5kn",
        "outputId": "0a2386cb-c703-4481-cb77-7538ea4e0d21",
        "colab": {
          "base_uri": "https://localhost:8080/"
        }
      },
      "source": [
        "chipo.dtypes"
      ],
      "execution_count": 11,
      "outputs": [
        {
          "output_type": "execute_result",
          "data": {
            "text/plain": [
              "order_id                int64\n",
              "quantity                int64\n",
              "item_name              object\n",
              "choice_description     object\n",
              "item_price            float64\n",
              "dtype: object"
            ]
          },
          "metadata": {
            "tags": []
          },
          "execution_count": 11
        }
      ]
    },
    {
      "cell_type": "code",
      "metadata": {
        "id": "p26PX7Y2O5kn",
        "outputId": "520f3e38-e16d-4590-f98c-042e8a860944",
        "colab": {
          "base_uri": "https://localhost:8080/",
          "height": 359
        }
      },
      "source": [
        "chipo.head(10)"
      ],
      "execution_count": 12,
      "outputs": [
        {
          "output_type": "execute_result",
          "data": {
            "text/html": [
              "<div>\n",
              "<style scoped>\n",
              "    .dataframe tbody tr th:only-of-type {\n",
              "        vertical-align: middle;\n",
              "    }\n",
              "\n",
              "    .dataframe tbody tr th {\n",
              "        vertical-align: top;\n",
              "    }\n",
              "\n",
              "    .dataframe thead th {\n",
              "        text-align: right;\n",
              "    }\n",
              "</style>\n",
              "<table border=\"1\" class=\"dataframe\">\n",
              "  <thead>\n",
              "    <tr style=\"text-align: right;\">\n",
              "      <th></th>\n",
              "      <th>order_id</th>\n",
              "      <th>quantity</th>\n",
              "      <th>item_name</th>\n",
              "      <th>choice_description</th>\n",
              "      <th>item_price</th>\n",
              "    </tr>\n",
              "  </thead>\n",
              "  <tbody>\n",
              "    <tr>\n",
              "      <th>0</th>\n",
              "      <td>1</td>\n",
              "      <td>1</td>\n",
              "      <td>Chips and Fresh Tomato Salsa</td>\n",
              "      <td>NaN</td>\n",
              "      <td>2.39</td>\n",
              "    </tr>\n",
              "    <tr>\n",
              "      <th>1</th>\n",
              "      <td>1</td>\n",
              "      <td>1</td>\n",
              "      <td>Izze</td>\n",
              "      <td>[Clementine]</td>\n",
              "      <td>3.39</td>\n",
              "    </tr>\n",
              "    <tr>\n",
              "      <th>2</th>\n",
              "      <td>1</td>\n",
              "      <td>1</td>\n",
              "      <td>Nantucket Nectar</td>\n",
              "      <td>[Apple]</td>\n",
              "      <td>3.39</td>\n",
              "    </tr>\n",
              "    <tr>\n",
              "      <th>3</th>\n",
              "      <td>1</td>\n",
              "      <td>1</td>\n",
              "      <td>Chips and Tomatillo-Green Chili Salsa</td>\n",
              "      <td>NaN</td>\n",
              "      <td>2.39</td>\n",
              "    </tr>\n",
              "    <tr>\n",
              "      <th>4</th>\n",
              "      <td>2</td>\n",
              "      <td>2</td>\n",
              "      <td>Chicken Bowl</td>\n",
              "      <td>[Tomatillo-Red Chili Salsa (Hot), [Black Beans...</td>\n",
              "      <td>16.98</td>\n",
              "    </tr>\n",
              "    <tr>\n",
              "      <th>5</th>\n",
              "      <td>3</td>\n",
              "      <td>1</td>\n",
              "      <td>Chicken Bowl</td>\n",
              "      <td>[Fresh Tomato Salsa (Mild), [Rice, Cheese, Sou...</td>\n",
              "      <td>10.98</td>\n",
              "    </tr>\n",
              "    <tr>\n",
              "      <th>6</th>\n",
              "      <td>3</td>\n",
              "      <td>1</td>\n",
              "      <td>Side of Chips</td>\n",
              "      <td>NaN</td>\n",
              "      <td>1.69</td>\n",
              "    </tr>\n",
              "    <tr>\n",
              "      <th>7</th>\n",
              "      <td>4</td>\n",
              "      <td>1</td>\n",
              "      <td>Steak Burrito</td>\n",
              "      <td>[Tomatillo Red Chili Salsa, [Fajita Vegetables...</td>\n",
              "      <td>11.75</td>\n",
              "    </tr>\n",
              "    <tr>\n",
              "      <th>8</th>\n",
              "      <td>4</td>\n",
              "      <td>1</td>\n",
              "      <td>Steak Soft Tacos</td>\n",
              "      <td>[Tomatillo Green Chili Salsa, [Pinto Beans, Ch...</td>\n",
              "      <td>9.25</td>\n",
              "    </tr>\n",
              "    <tr>\n",
              "      <th>9</th>\n",
              "      <td>5</td>\n",
              "      <td>1</td>\n",
              "      <td>Steak Burrito</td>\n",
              "      <td>[Fresh Tomato Salsa, [Rice, Black Beans, Pinto...</td>\n",
              "      <td>9.25</td>\n",
              "    </tr>\n",
              "  </tbody>\n",
              "</table>\n",
              "</div>"
            ],
            "text/plain": [
              "   order_id  ...  item_price\n",
              "0         1  ...        2.39\n",
              "1         1  ...        3.39\n",
              "2         1  ...        3.39\n",
              "3         1  ...        2.39\n",
              "4         2  ...       16.98\n",
              "5         3  ...       10.98\n",
              "6         3  ...        1.69\n",
              "7         4  ...       11.75\n",
              "8         4  ...        9.25\n",
              "9         5  ...        9.25\n",
              "\n",
              "[10 rows x 5 columns]"
            ]
          },
          "metadata": {
            "tags": []
          },
          "execution_count": 12
        }
      ]
    },
    {
      "cell_type": "markdown",
      "metadata": {
        "id": "k__kO7o-O5ko"
      },
      "source": [
        "### 2. 查看数据集的基本信息"
      ]
    },
    {
      "cell_type": "code",
      "metadata": {
        "id": "XGukd2jXO5ko",
        "outputId": "ed7245b5-8690-4acf-a43b-c9b160c8d87f",
        "colab": {
          "base_uri": "https://localhost:8080/"
        }
      },
      "source": [
        "chipo.info()"
      ],
      "execution_count": 14,
      "outputs": [
        {
          "output_type": "stream",
          "text": [
            "<class 'pandas.core.frame.DataFrame'>\n",
            "RangeIndex: 4622 entries, 0 to 4621\n",
            "Data columns (total 5 columns):\n",
            " #   Column              Non-Null Count  Dtype  \n",
            "---  ------              --------------  -----  \n",
            " 0   order_id            4622 non-null   int64  \n",
            " 1   quantity            4622 non-null   int64  \n",
            " 2   item_name           4622 non-null   object \n",
            " 3   choice_description  3376 non-null   object \n",
            " 4   item_price          4622 non-null   float64\n",
            "dtypes: float64(1), int64(2), object(2)\n",
            "memory usage: 180.7+ KB\n"
          ],
          "name": "stdout"
        }
      ]
    },
    {
      "cell_type": "markdown",
      "metadata": {
        "id": "ku7jfnJhO5kp"
      },
      "source": [
        "### 3. 查看数据的行列数和列名"
      ]
    },
    {
      "cell_type": "code",
      "metadata": {
        "id": "GvA96Y8BO5kp",
        "outputId": "6b8e0b73-c17d-4640-f1d9-30214e61d6f4",
        "colab": {
          "base_uri": "https://localhost:8080/"
        }
      },
      "source": [
        "print ('(row, column) = ', chipo.shape)"
      ],
      "execution_count": 16,
      "outputs": [
        {
          "output_type": "stream",
          "text": [
            "(row, column) =  (4622, 5)\n"
          ],
          "name": "stdout"
        }
      ]
    },
    {
      "cell_type": "code",
      "metadata": {
        "id": "iJIUzKTgO5kq",
        "outputId": "9812c11f-b5bd-4286-be86-92208bf0df6d",
        "colab": {
          "base_uri": "https://localhost:8080/"
        }
      },
      "source": [
        "# 列名\n",
        "print('columns = ', chipo.columns)"
      ],
      "execution_count": 17,
      "outputs": [
        {
          "output_type": "stream",
          "text": [
            "columns =  Index(['order_id', 'quantity', 'item_name', 'choice_description',\n",
            "       'item_price'],\n",
            "      dtype='object')\n"
          ],
          "name": "stdout"
        }
      ]
    },
    {
      "cell_type": "code",
      "metadata": {
        "id": "YVN-yEr9O5kq",
        "outputId": "3e0a9e36-e735-4842-d2fb-cd4f2e2010f9",
        "colab": {
          "base_uri": "https://localhost:8080/"
        }
      },
      "source": [
        "# 查看索引信息\n",
        "chipo.index"
      ],
      "execution_count": 18,
      "outputs": [
        {
          "output_type": "execute_result",
          "data": {
            "text/plain": [
              "RangeIndex(start=0, stop=4622, step=1)"
            ]
          },
          "metadata": {
            "tags": []
          },
          "execution_count": 18
        }
      ]
    },
    {
      "cell_type": "markdown",
      "metadata": {
        "id": "TSMnVUAuO5kr"
      },
      "source": [
        "### 4. 查询商品种类的数量，以及下单最多的几种商品"
      ]
    },
    {
      "cell_type": "code",
      "metadata": {
        "id": "J_AxaLhhO5kr",
        "outputId": "4d363a8b-576e-4a09-b57d-e577f8180e1b"
      },
      "source": [
        "print ('Total items: ', len(chipo.item_name.unique()))\n",
        "print ('--------------------------------------------------------------------------------')\n",
        "print ('Total items: ', chipo.item_name.value_counts().count())\n",
        "print ('--------------------------------------------------------------------------------')\n",
        "print ('Total items = ', len(chipo.groupby(['item_name']).groups))"
      ],
      "execution_count": null,
      "outputs": [
        {
          "output_type": "stream",
          "text": [
            "Total items:  50\n",
            "--------------------------------------------------------------------------------\n",
            "Total items:  50\n",
            "--------------------------------------------------------------------------------\n",
            "Total items =  50\n"
          ],
          "name": "stdout"
        }
      ]
    },
    {
      "cell_type": "code",
      "metadata": {
        "id": "DNX49frZO5kr",
        "outputId": "b0a189e8-00b2-4fce-c2b4-2abff3549701"
      },
      "source": [
        "# 获取销量最多的商品名\n",
        "chipo.item_name.value_counts().head().index"
      ],
      "execution_count": null,
      "outputs": [
        {
          "output_type": "execute_result",
          "data": {
            "text/plain": [
              "Index(['Chicken Bowl', 'Chicken Burrito', 'Chips and Guacamole',\n",
              "       'Steak Burrito', 'Canned Soft Drink'],\n",
              "      dtype='object')"
            ]
          },
          "metadata": {
            "tags": []
          },
          "execution_count": 13
        }
      ]
    },
    {
      "cell_type": "code",
      "metadata": {
        "id": "DGweYDSPO5ks",
        "outputId": "3fab5d48-90fa-43ed-f4d0-c9c525f169ce"
      },
      "source": [
        "# 获取销量最多的商品销售量\n",
        "chipo.item_name.value_counts().head()"
      ],
      "execution_count": null,
      "outputs": [
        {
          "output_type": "execute_result",
          "data": {
            "text/plain": [
              "Chicken Bowl           726\n",
              "Chicken Burrito        553\n",
              "Chips and Guacamole    479\n",
              "Steak Burrito          368\n",
              "Canned Soft Drink      301\n",
              "Name: item_name, dtype: int64"
            ]
          },
          "metadata": {
            "tags": []
          },
          "execution_count": 14
        }
      ]
    },
    {
      "cell_type": "markdown",
      "metadata": {
        "id": "bh6jp4Y_O5ks"
      },
      "source": [
        "### 5. 查询最受欢迎的食物及其销量，销售额"
      ]
    },
    {
      "cell_type": "code",
      "metadata": {
        "id": "mlFoXtpFO5ks",
        "outputId": "d7b3844a-0a78-48fd-89cc-71962be4195a"
      },
      "source": [
        "# 查询最受欢迎的食物\n",
        "favoriteItems = chipo.groupby(['item_name']).sum().sort_values('quantity', ascending=False)\n",
        "# 删除order_id列\n",
        "#favoriteItems = favoriteItems.drop('order_id', axis=1)\n",
        "favoriteItems.head()"
      ],
      "execution_count": null,
      "outputs": [
        {
          "output_type": "execute_result",
          "data": {
            "text/html": [
              "<div>\n",
              "<style scoped>\n",
              "    .dataframe tbody tr th:only-of-type {\n",
              "        vertical-align: middle;\n",
              "    }\n",
              "\n",
              "    .dataframe tbody tr th {\n",
              "        vertical-align: top;\n",
              "    }\n",
              "\n",
              "    .dataframe thead th {\n",
              "        text-align: right;\n",
              "    }\n",
              "</style>\n",
              "<table border=\"1\" class=\"dataframe\">\n",
              "  <thead>\n",
              "    <tr style=\"text-align: right;\">\n",
              "      <th></th>\n",
              "      <th>order_id</th>\n",
              "      <th>quantity</th>\n",
              "      <th>item_price</th>\n",
              "    </tr>\n",
              "    <tr>\n",
              "      <th>item_name</th>\n",
              "      <th></th>\n",
              "      <th></th>\n",
              "      <th></th>\n",
              "    </tr>\n",
              "  </thead>\n",
              "  <tbody>\n",
              "    <tr>\n",
              "      <td>Chicken Bowl</td>\n",
              "      <td>713926</td>\n",
              "      <td>761</td>\n",
              "      <td>7342.73</td>\n",
              "    </tr>\n",
              "    <tr>\n",
              "      <td>Chicken Burrito</td>\n",
              "      <td>497303</td>\n",
              "      <td>591</td>\n",
              "      <td>5575.82</td>\n",
              "    </tr>\n",
              "    <tr>\n",
              "      <td>Chips and Guacamole</td>\n",
              "      <td>449959</td>\n",
              "      <td>506</td>\n",
              "      <td>2201.04</td>\n",
              "    </tr>\n",
              "    <tr>\n",
              "      <td>Steak Burrito</td>\n",
              "      <td>328437</td>\n",
              "      <td>386</td>\n",
              "      <td>3851.43</td>\n",
              "    </tr>\n",
              "    <tr>\n",
              "      <td>Canned Soft Drink</td>\n",
              "      <td>304753</td>\n",
              "      <td>351</td>\n",
              "      <td>438.75</td>\n",
              "    </tr>\n",
              "  </tbody>\n",
              "</table>\n",
              "</div>"
            ],
            "text/plain": [
              "                     order_id  quantity  item_price\n",
              "item_name                                          \n",
              "Chicken Bowl           713926       761     7342.73\n",
              "Chicken Burrito        497303       591     5575.82\n",
              "Chips and Guacamole    449959       506     2201.04\n",
              "Steak Burrito          328437       386     3851.43\n",
              "Canned Soft Drink      304753       351      438.75"
            ]
          },
          "metadata": {
            "tags": []
          },
          "execution_count": 18
        }
      ]
    },
    {
      "cell_type": "markdown",
      "metadata": {
        "id": "GBHPRrxLO5kt"
      },
      "source": [
        "### 6. 查询最受欢迎食物（下单数，销量，销售额）"
      ]
    },
    {
      "cell_type": "code",
      "metadata": {
        "id": "Nvt-qY4TO5kt",
        "outputId": "b3fd5ccc-3236-4a3c-863b-b55ba57195ce"
      },
      "source": [
        "# agg 複合性處理 把欄位資料做分群後的處理\n",
        "# Agg 是欄位資料做分群後，其他的欄位做分群函式處理(ex : count, sum, avg)\n",
        "favoriteItems = chipo.groupby(['item_name']).agg({'order_id' : 'count', 'quantity' : 'sum', 'item_price' : 'sum'}).sort_values('item_price', ascending=False)\n",
        "favoriteItems.head()"
      ],
      "execution_count": null,
      "outputs": [
        {
          "output_type": "execute_result",
          "data": {
            "text/html": [
              "<div>\n",
              "<style scoped>\n",
              "    .dataframe tbody tr th:only-of-type {\n",
              "        vertical-align: middle;\n",
              "    }\n",
              "\n",
              "    .dataframe tbody tr th {\n",
              "        vertical-align: top;\n",
              "    }\n",
              "\n",
              "    .dataframe thead th {\n",
              "        text-align: right;\n",
              "    }\n",
              "</style>\n",
              "<table border=\"1\" class=\"dataframe\">\n",
              "  <thead>\n",
              "    <tr style=\"text-align: right;\">\n",
              "      <th></th>\n",
              "      <th>order_id</th>\n",
              "      <th>quantity</th>\n",
              "      <th>item_price</th>\n",
              "    </tr>\n",
              "    <tr>\n",
              "      <th>item_name</th>\n",
              "      <th></th>\n",
              "      <th></th>\n",
              "      <th></th>\n",
              "    </tr>\n",
              "  </thead>\n",
              "  <tbody>\n",
              "    <tr>\n",
              "      <td>Chicken Bowl</td>\n",
              "      <td>726</td>\n",
              "      <td>761</td>\n",
              "      <td>7342.73</td>\n",
              "    </tr>\n",
              "    <tr>\n",
              "      <td>Chicken Burrito</td>\n",
              "      <td>553</td>\n",
              "      <td>591</td>\n",
              "      <td>5575.82</td>\n",
              "    </tr>\n",
              "    <tr>\n",
              "      <td>Steak Burrito</td>\n",
              "      <td>368</td>\n",
              "      <td>386</td>\n",
              "      <td>3851.43</td>\n",
              "    </tr>\n",
              "    <tr>\n",
              "      <td>Steak Bowl</td>\n",
              "      <td>211</td>\n",
              "      <td>221</td>\n",
              "      <td>2260.19</td>\n",
              "    </tr>\n",
              "    <tr>\n",
              "      <td>Chips and Guacamole</td>\n",
              "      <td>479</td>\n",
              "      <td>506</td>\n",
              "      <td>2201.04</td>\n",
              "    </tr>\n",
              "  </tbody>\n",
              "</table>\n",
              "</div>"
            ],
            "text/plain": [
              "                     order_id  quantity  item_price\n",
              "item_name                                          \n",
              "Chicken Bowl              726       761     7342.73\n",
              "Chicken Burrito           553       591     5575.82\n",
              "Steak Burrito             368       386     3851.43\n",
              "Steak Bowl                211       221     2260.19\n",
              "Chips and Guacamole       479       506     2201.04"
            ]
          },
          "metadata": {
            "tags": []
          },
          "execution_count": 19
        }
      ]
    },
    {
      "cell_type": "markdown",
      "metadata": {
        "id": "BnDUjwuwO5ku"
      },
      "source": [
        "###  7. 查询订单的商品总数量"
      ]
    },
    {
      "cell_type": "code",
      "metadata": {
        "id": "HnOnDxT4O5ku",
        "outputId": "7d44fc24-53b6-450c-aa5a-653c56effb27"
      },
      "source": [
        "chipo.quantity.sum()"
      ],
      "execution_count": null,
      "outputs": [
        {
          "output_type": "execute_result",
          "data": {
            "text/plain": [
              "4972"
            ]
          },
          "metadata": {
            "tags": []
          },
          "execution_count": 75
        }
      ]
    },
    {
      "cell_type": "markdown",
      "metadata": {
        "id": "NaIF0fE0O5ku"
      },
      "source": [
        "### 8. 统计总收入"
      ]
    },
    {
      "cell_type": "code",
      "metadata": {
        "id": "u4Zi-GRuO5kv",
        "outputId": "53910e61-ac38-4ce1-c976-c07a4b80f330"
      },
      "source": [
        "chipo.item_price.sum()"
      ],
      "execution_count": null,
      "outputs": [
        {
          "output_type": "execute_result",
          "data": {
            "text/plain": [
              "34500.16"
            ]
          },
          "metadata": {
            "tags": []
          },
          "execution_count": 20
        }
      ]
    },
    {
      "cell_type": "markdown",
      "metadata": {
        "id": "FBkE3BGVO5kv"
      },
      "source": [
        "### 9. 统计订单总数"
      ]
    },
    {
      "cell_type": "code",
      "metadata": {
        "id": "xQZmGHr9O5kv",
        "outputId": "b828540a-1ac2-4604-a7bc-b79964305955"
      },
      "source": [
        "chipo.order_id.value_counts().count()"
      ],
      "execution_count": null,
      "outputs": [
        {
          "output_type": "execute_result",
          "data": {
            "text/plain": [
              "1834"
            ]
          },
          "metadata": {
            "tags": []
          },
          "execution_count": 22
        }
      ]
    },
    {
      "cell_type": "markdown",
      "metadata": {
        "id": "cArQ33xIO5kw"
      },
      "source": [
        "### 10. 订单平均消费"
      ]
    },
    {
      "cell_type": "code",
      "metadata": {
        "id": "zQzbmfQcO5kw",
        "outputId": "15efda99-943e-494f-9324-7631117b917e"
      },
      "source": [
        "chipo.item_price.sum() / chipo.order_id.value_counts().count() # 總金額/總訂單數\n",
        "# chipo.groupby(by=['order_id']).sum()['item_price'].mean()"
      ],
      "execution_count": null,
      "outputs": [
        {
          "output_type": "execute_result",
          "data": {
            "text/plain": [
              "18.811428571428575"
            ]
          },
          "metadata": {
            "tags": []
          },
          "execution_count": 82
        }
      ]
    },
    {
      "cell_type": "markdown",
      "metadata": {
        "id": "ndPxpFv2O5kx"
      },
      "source": [
        "### 11. 按商品名称过滤查询数据"
      ]
    },
    {
      "cell_type": "code",
      "metadata": {
        "id": "qhw_qh_jO5kx",
        "outputId": "0b7bcd51-44a5-453a-ec50-32b8e218d10f"
      },
      "source": [
        "chipo[(chipo['item_name'] == 'Chicken Bowl') & (chipo['quantity'] > 1)].head()"
      ],
      "execution_count": null,
      "outputs": [
        {
          "output_type": "execute_result",
          "data": {
            "text/html": [
              "<div>\n",
              "<style scoped>\n",
              "    .dataframe tbody tr th:only-of-type {\n",
              "        vertical-align: middle;\n",
              "    }\n",
              "\n",
              "    .dataframe tbody tr th {\n",
              "        vertical-align: top;\n",
              "    }\n",
              "\n",
              "    .dataframe thead th {\n",
              "        text-align: right;\n",
              "    }\n",
              "</style>\n",
              "<table border=\"1\" class=\"dataframe\">\n",
              "  <thead>\n",
              "    <tr style=\"text-align: right;\">\n",
              "      <th></th>\n",
              "      <th>order_id</th>\n",
              "      <th>quantity</th>\n",
              "      <th>item_name</th>\n",
              "      <th>choice_description</th>\n",
              "      <th>item_price</th>\n",
              "    </tr>\n",
              "  </thead>\n",
              "  <tbody>\n",
              "    <tr>\n",
              "      <th>4</th>\n",
              "      <td>2</td>\n",
              "      <td>2</td>\n",
              "      <td>Chicken Bowl</td>\n",
              "      <td>[Tomatillo-Red Chili Salsa (Hot), [Black Beans...</td>\n",
              "      <td>16.98</td>\n",
              "    </tr>\n",
              "    <tr>\n",
              "      <th>154</th>\n",
              "      <td>70</td>\n",
              "      <td>2</td>\n",
              "      <td>Chicken Bowl</td>\n",
              "      <td>[Fresh Tomato Salsa, [Fajita Vegetables, Rice,...</td>\n",
              "      <td>17.50</td>\n",
              "    </tr>\n",
              "    <tr>\n",
              "      <th>282</th>\n",
              "      <td>124</td>\n",
              "      <td>2</td>\n",
              "      <td>Chicken Bowl</td>\n",
              "      <td>[Fresh Tomato Salsa, [Rice, Black Beans, Chees...</td>\n",
              "      <td>17.50</td>\n",
              "    </tr>\n",
              "    <tr>\n",
              "      <th>409</th>\n",
              "      <td>178</td>\n",
              "      <td>3</td>\n",
              "      <td>Chicken Bowl</td>\n",
              "      <td>[[Fresh Tomato Salsa (Mild), Tomatillo-Green C...</td>\n",
              "      <td>32.94</td>\n",
              "    </tr>\n",
              "    <tr>\n",
              "      <th>415</th>\n",
              "      <td>181</td>\n",
              "      <td>2</td>\n",
              "      <td>Chicken Bowl</td>\n",
              "      <td>[Tomatillo Red Chili Salsa]</td>\n",
              "      <td>17.50</td>\n",
              "    </tr>\n",
              "  </tbody>\n",
              "</table>\n",
              "</div>"
            ],
            "text/plain": [
              "     order_id  quantity     item_name  \\\n",
              "4           2         2  Chicken Bowl   \n",
              "154        70         2  Chicken Bowl   \n",
              "282       124         2  Chicken Bowl   \n",
              "409       178         3  Chicken Bowl   \n",
              "415       181         2  Chicken Bowl   \n",
              "\n",
              "                                    choice_description  item_price  \n",
              "4    [Tomatillo-Red Chili Salsa (Hot), [Black Beans...       16.98  \n",
              "154  [Fresh Tomato Salsa, [Fajita Vegetables, Rice,...       17.50  \n",
              "282  [Fresh Tomato Salsa, [Rice, Black Beans, Chees...       17.50  \n",
              "409  [[Fresh Tomato Salsa (Mild), Tomatillo-Green C...       32.94  \n",
              "415                        [Tomatillo Red Chili Salsa]       17.50  "
            ]
          },
          "metadata": {
            "tags": []
          },
          "execution_count": 91
        }
      ]
    },
    {
      "cell_type": "markdown",
      "metadata": {
        "id": "1fGZ2CG9O5kx"
      },
      "source": [
        "### 12. 查询消费金额最大的订单信息 (3个)"
      ]
    },
    {
      "cell_type": "code",
      "metadata": {
        "id": "-15V15BJO5ky",
        "outputId": "23c1ffce-b1f7-4a78-ed93-0d5dd956c4b3"
      },
      "source": [
        "maxOrder = chipo.groupby(['order_id']).sum().sort_values('item_price', ascending=False)\n",
        "maxOrder.head(10)"
      ],
      "execution_count": null,
      "outputs": [
        {
          "output_type": "execute_result",
          "data": {
            "text/html": [
              "<div>\n",
              "<style scoped>\n",
              "    .dataframe tbody tr th:only-of-type {\n",
              "        vertical-align: middle;\n",
              "    }\n",
              "\n",
              "    .dataframe tbody tr th {\n",
              "        vertical-align: top;\n",
              "    }\n",
              "\n",
              "    .dataframe thead th {\n",
              "        text-align: right;\n",
              "    }\n",
              "</style>\n",
              "<table border=\"1\" class=\"dataframe\">\n",
              "  <thead>\n",
              "    <tr style=\"text-align: right;\">\n",
              "      <th></th>\n",
              "      <th>quantity</th>\n",
              "      <th>item_price</th>\n",
              "    </tr>\n",
              "    <tr>\n",
              "      <th>order_id</th>\n",
              "      <th></th>\n",
              "      <th></th>\n",
              "    </tr>\n",
              "  </thead>\n",
              "  <tbody>\n",
              "    <tr>\n",
              "      <td>926</td>\n",
              "      <td>23</td>\n",
              "      <td>205.25</td>\n",
              "    </tr>\n",
              "    <tr>\n",
              "      <td>1443</td>\n",
              "      <td>35</td>\n",
              "      <td>160.74</td>\n",
              "    </tr>\n",
              "    <tr>\n",
              "      <td>1483</td>\n",
              "      <td>14</td>\n",
              "      <td>139.00</td>\n",
              "    </tr>\n",
              "    <tr>\n",
              "      <td>691</td>\n",
              "      <td>11</td>\n",
              "      <td>118.25</td>\n",
              "    </tr>\n",
              "    <tr>\n",
              "      <td>1786</td>\n",
              "      <td>20</td>\n",
              "      <td>114.30</td>\n",
              "    </tr>\n",
              "    <tr>\n",
              "      <td>205</td>\n",
              "      <td>12</td>\n",
              "      <td>109.90</td>\n",
              "    </tr>\n",
              "    <tr>\n",
              "      <td>511</td>\n",
              "      <td>17</td>\n",
              "      <td>104.59</td>\n",
              "    </tr>\n",
              "    <tr>\n",
              "      <td>491</td>\n",
              "      <td>10</td>\n",
              "      <td>102.00</td>\n",
              "    </tr>\n",
              "    <tr>\n",
              "      <td>1449</td>\n",
              "      <td>11</td>\n",
              "      <td>95.39</td>\n",
              "    </tr>\n",
              "    <tr>\n",
              "      <td>759</td>\n",
              "      <td>18</td>\n",
              "      <td>86.30</td>\n",
              "    </tr>\n",
              "  </tbody>\n",
              "</table>\n",
              "</div>"
            ],
            "text/plain": [
              "          quantity  item_price\n",
              "order_id                      \n",
              "926             23      205.25\n",
              "1443            35      160.74\n",
              "1483            14      139.00\n",
              "691             11      118.25\n",
              "1786            20      114.30\n",
              "205             12      109.90\n",
              "511             17      104.59\n",
              "491             10      102.00\n",
              "1449            11       95.39\n",
              "759             18       86.30"
            ]
          },
          "metadata": {
            "tags": []
          },
          "execution_count": 23
        }
      ]
    },
    {
      "cell_type": "code",
      "metadata": {
        "id": "Xn8DwvUSO5kz",
        "outputId": "a7a07abe-ef0e-4bd9-b609-d8dd7abce26d"
      },
      "source": [
        "arrOrderId = maxOrder.head(3).index[0:3].values\n",
        "arrOrderId"
      ],
      "execution_count": null,
      "outputs": [
        {
          "output_type": "execute_result",
          "data": {
            "text/plain": [
              "array([ 926, 1443, 1483], dtype=int64)"
            ]
          },
          "metadata": {
            "tags": []
          },
          "execution_count": 25
        }
      ]
    },
    {
      "cell_type": "code",
      "metadata": {
        "id": "k9wfjLIZO5k0",
        "outputId": "650b9fc9-89f0-4b9e-8af4-d1ad948bbc96"
      },
      "source": [
        "chipo[chipo['order_id'].isin(arrOrderId)]"
      ],
      "execution_count": null,
      "outputs": [
        {
          "output_type": "execute_result",
          "data": {
            "text/html": [
              "<div>\n",
              "<style scoped>\n",
              "    .dataframe tbody tr th:only-of-type {\n",
              "        vertical-align: middle;\n",
              "    }\n",
              "\n",
              "    .dataframe tbody tr th {\n",
              "        vertical-align: top;\n",
              "    }\n",
              "\n",
              "    .dataframe thead th {\n",
              "        text-align: right;\n",
              "    }\n",
              "</style>\n",
              "<table border=\"1\" class=\"dataframe\">\n",
              "  <thead>\n",
              "    <tr style=\"text-align: right;\">\n",
              "      <th></th>\n",
              "      <th>order_id</th>\n",
              "      <th>quantity</th>\n",
              "      <th>item_name</th>\n",
              "      <th>choice_description</th>\n",
              "      <th>item_price</th>\n",
              "    </tr>\n",
              "  </thead>\n",
              "  <tbody>\n",
              "    <tr>\n",
              "      <th>2304</th>\n",
              "      <td>926</td>\n",
              "      <td>1</td>\n",
              "      <td>Steak Burrito</td>\n",
              "      <td>[Fresh Tomato Salsa, [Rice, Sour Cream, Lettuce]]</td>\n",
              "      <td>9.25</td>\n",
              "    </tr>\n",
              "    <tr>\n",
              "      <th>2305</th>\n",
              "      <td>926</td>\n",
              "      <td>1</td>\n",
              "      <td>Chicken Bowl</td>\n",
              "      <td>[Roasted Chili Corn Salsa, [Fajita Vegetables,...</td>\n",
              "      <td>8.75</td>\n",
              "    </tr>\n",
              "    <tr>\n",
              "      <th>2306</th>\n",
              "      <td>926</td>\n",
              "      <td>1</td>\n",
              "      <td>Chicken Bowl</td>\n",
              "      <td>[Roasted Chili Corn Salsa, [Fajita Vegetables,...</td>\n",
              "      <td>8.75</td>\n",
              "    </tr>\n",
              "    <tr>\n",
              "      <th>2307</th>\n",
              "      <td>926</td>\n",
              "      <td>1</td>\n",
              "      <td>Chicken Bowl</td>\n",
              "      <td>[Roasted Chili Corn Salsa, [Fajita Vegetables,...</td>\n",
              "      <td>8.75</td>\n",
              "    </tr>\n",
              "    <tr>\n",
              "      <th>2308</th>\n",
              "      <td>926</td>\n",
              "      <td>1</td>\n",
              "      <td>Steak Bowl</td>\n",
              "      <td>[Fresh Tomato Salsa, [Rice, Black Beans, Lettu...</td>\n",
              "      <td>9.25</td>\n",
              "    </tr>\n",
              "    <tr>\n",
              "      <th>2309</th>\n",
              "      <td>926</td>\n",
              "      <td>1</td>\n",
              "      <td>Chicken Bowl</td>\n",
              "      <td>[Fresh Tomato Salsa, [Rice, Black Beans, Chees...</td>\n",
              "      <td>8.75</td>\n",
              "    </tr>\n",
              "    <tr>\n",
              "      <th>2310</th>\n",
              "      <td>926</td>\n",
              "      <td>1</td>\n",
              "      <td>Steak Burrito</td>\n",
              "      <td>[Roasted Chili Corn Salsa, [Rice, Cheese, Sour...</td>\n",
              "      <td>9.25</td>\n",
              "    </tr>\n",
              "    <tr>\n",
              "      <th>2311</th>\n",
              "      <td>926</td>\n",
              "      <td>1</td>\n",
              "      <td>Chicken Burrito</td>\n",
              "      <td>[Fresh Tomato Salsa, [Rice, Black Beans, Chees...</td>\n",
              "      <td>8.75</td>\n",
              "    </tr>\n",
              "    <tr>\n",
              "      <th>2312</th>\n",
              "      <td>926</td>\n",
              "      <td>1</td>\n",
              "      <td>Chicken Bowl</td>\n",
              "      <td>[Fresh Tomato Salsa, [Rice, Lettuce]]</td>\n",
              "      <td>8.75</td>\n",
              "    </tr>\n",
              "    <tr>\n",
              "      <th>2313</th>\n",
              "      <td>926</td>\n",
              "      <td>1</td>\n",
              "      <td>Chicken Bowl</td>\n",
              "      <td>[Fresh Tomato Salsa, [Rice, Cheese, Sour Cream...</td>\n",
              "      <td>8.75</td>\n",
              "    </tr>\n",
              "    <tr>\n",
              "      <th>2314</th>\n",
              "      <td>926</td>\n",
              "      <td>1</td>\n",
              "      <td>Chicken Salad Bowl</td>\n",
              "      <td>[Roasted Chili Corn Salsa, [Rice, Sour Cream]]</td>\n",
              "      <td>8.75</td>\n",
              "    </tr>\n",
              "    <tr>\n",
              "      <th>2315</th>\n",
              "      <td>926</td>\n",
              "      <td>1</td>\n",
              "      <td>Steak Bowl</td>\n",
              "      <td>[Fresh Tomato Salsa, [Rice, Black Beans, Chees...</td>\n",
              "      <td>9.25</td>\n",
              "    </tr>\n",
              "    <tr>\n",
              "      <th>2316</th>\n",
              "      <td>926</td>\n",
              "      <td>1</td>\n",
              "      <td>Chicken Burrito</td>\n",
              "      <td>[Roasted Chili Corn Salsa, [Rice, Black Beans,...</td>\n",
              "      <td>8.75</td>\n",
              "    </tr>\n",
              "    <tr>\n",
              "      <th>2317</th>\n",
              "      <td>926</td>\n",
              "      <td>1</td>\n",
              "      <td>Steak Bowl</td>\n",
              "      <td>[Roasted Chili Corn Salsa, [Rice, Black Beans,...</td>\n",
              "      <td>9.25</td>\n",
              "    </tr>\n",
              "    <tr>\n",
              "      <th>2318</th>\n",
              "      <td>926</td>\n",
              "      <td>1</td>\n",
              "      <td>Chicken Bowl</td>\n",
              "      <td>[Roasted Chili Corn Salsa, [Fajita Vegetables,...</td>\n",
              "      <td>8.75</td>\n",
              "    </tr>\n",
              "    <tr>\n",
              "      <th>2319</th>\n",
              "      <td>926</td>\n",
              "      <td>1</td>\n",
              "      <td>Steak Bowl</td>\n",
              "      <td>[Fresh Tomato Salsa, [Rice, Cheese]]</td>\n",
              "      <td>9.25</td>\n",
              "    </tr>\n",
              "    <tr>\n",
              "      <th>2320</th>\n",
              "      <td>926</td>\n",
              "      <td>1</td>\n",
              "      <td>Chicken Burrito</td>\n",
              "      <td>[Fresh Tomato Salsa, [Rice, Cheese, Lettuce]]</td>\n",
              "      <td>8.75</td>\n",
              "    </tr>\n",
              "    <tr>\n",
              "      <th>2321</th>\n",
              "      <td>926</td>\n",
              "      <td>1</td>\n",
              "      <td>Chicken Bowl</td>\n",
              "      <td>[Roasted Chili Corn Salsa, [Rice, Pinto Beans,...</td>\n",
              "      <td>8.75</td>\n",
              "    </tr>\n",
              "    <tr>\n",
              "      <th>2322</th>\n",
              "      <td>926</td>\n",
              "      <td>1</td>\n",
              "      <td>Chicken Bowl</td>\n",
              "      <td>[Roasted Chili Corn Salsa, [Rice, Cheese]]</td>\n",
              "      <td>8.75</td>\n",
              "    </tr>\n",
              "    <tr>\n",
              "      <th>2323</th>\n",
              "      <td>926</td>\n",
              "      <td>1</td>\n",
              "      <td>Barbacoa Burrito</td>\n",
              "      <td>[Fresh Tomato Salsa, [Rice, Black Beans, Chees...</td>\n",
              "      <td>9.25</td>\n",
              "    </tr>\n",
              "    <tr>\n",
              "      <th>2324</th>\n",
              "      <td>926</td>\n",
              "      <td>1</td>\n",
              "      <td>Chicken Burrito</td>\n",
              "      <td>[Tomatillo Red Chili Salsa, [Rice, Cheese, Sou...</td>\n",
              "      <td>8.75</td>\n",
              "    </tr>\n",
              "    <tr>\n",
              "      <th>2325</th>\n",
              "      <td>926</td>\n",
              "      <td>1</td>\n",
              "      <td>Steak Bowl</td>\n",
              "      <td>[Tomatillo Red Chili Salsa, [Rice, Black Beans...</td>\n",
              "      <td>9.25</td>\n",
              "    </tr>\n",
              "    <tr>\n",
              "      <th>2326</th>\n",
              "      <td>926</td>\n",
              "      <td>1</td>\n",
              "      <td>Veggie Bowl</td>\n",
              "      <td>[Roasted Chili Corn Salsa, [Rice, Black Beans,...</td>\n",
              "      <td>8.75</td>\n",
              "    </tr>\n",
              "    <tr>\n",
              "      <th>3598</th>\n",
              "      <td>1443</td>\n",
              "      <td>15</td>\n",
              "      <td>Chips and Fresh Tomato Salsa</td>\n",
              "      <td>NaN</td>\n",
              "      <td>44.25</td>\n",
              "    </tr>\n",
              "    <tr>\n",
              "      <th>3599</th>\n",
              "      <td>1443</td>\n",
              "      <td>7</td>\n",
              "      <td>Bottled Water</td>\n",
              "      <td>NaN</td>\n",
              "      <td>10.50</td>\n",
              "    </tr>\n",
              "    <tr>\n",
              "      <th>3600</th>\n",
              "      <td>1443</td>\n",
              "      <td>1</td>\n",
              "      <td>6 Pack Soft Drink</td>\n",
              "      <td>[Coke]</td>\n",
              "      <td>6.49</td>\n",
              "    </tr>\n",
              "    <tr>\n",
              "      <th>3601</th>\n",
              "      <td>1443</td>\n",
              "      <td>3</td>\n",
              "      <td>Veggie Burrito</td>\n",
              "      <td>[Fresh Tomato Salsa, [Fajita Vegetables, Rice,...</td>\n",
              "      <td>33.75</td>\n",
              "    </tr>\n",
              "    <tr>\n",
              "      <th>3602</th>\n",
              "      <td>1443</td>\n",
              "      <td>4</td>\n",
              "      <td>Chicken Burrito</td>\n",
              "      <td>[Fresh Tomato Salsa, [Rice, Black Beans, Chees...</td>\n",
              "      <td>35.00</td>\n",
              "    </tr>\n",
              "    <tr>\n",
              "      <th>3603</th>\n",
              "      <td>1443</td>\n",
              "      <td>3</td>\n",
              "      <td>Steak Burrito</td>\n",
              "      <td>[Fresh Tomato Salsa, [Rice, Black Beans, Chees...</td>\n",
              "      <td>27.75</td>\n",
              "    </tr>\n",
              "    <tr>\n",
              "      <th>3604</th>\n",
              "      <td>1443</td>\n",
              "      <td>2</td>\n",
              "      <td>Bottled Water</td>\n",
              "      <td>NaN</td>\n",
              "      <td>3.00</td>\n",
              "    </tr>\n",
              "    <tr>\n",
              "      <th>3700</th>\n",
              "      <td>1483</td>\n",
              "      <td>1</td>\n",
              "      <td>Chicken Bowl</td>\n",
              "      <td>[Roasted Chili Corn Salsa, [Rice, Black Beans,...</td>\n",
              "      <td>8.75</td>\n",
              "    </tr>\n",
              "    <tr>\n",
              "      <th>3701</th>\n",
              "      <td>1483</td>\n",
              "      <td>1</td>\n",
              "      <td>Steak Bowl</td>\n",
              "      <td>[Roasted Chili Corn Salsa, [Fajita Vegetables,...</td>\n",
              "      <td>11.75</td>\n",
              "    </tr>\n",
              "    <tr>\n",
              "      <th>3702</th>\n",
              "      <td>1483</td>\n",
              "      <td>1</td>\n",
              "      <td>Chicken Burrito</td>\n",
              "      <td>[Tomatillo Red Chili Salsa, [Fajita Vegetables...</td>\n",
              "      <td>8.75</td>\n",
              "    </tr>\n",
              "    <tr>\n",
              "      <th>3703</th>\n",
              "      <td>1483</td>\n",
              "      <td>1</td>\n",
              "      <td>Steak Bowl</td>\n",
              "      <td>[Roasted Chili Corn Salsa, [Fajita Vegetables,...</td>\n",
              "      <td>9.25</td>\n",
              "    </tr>\n",
              "    <tr>\n",
              "      <th>3704</th>\n",
              "      <td>1483</td>\n",
              "      <td>1</td>\n",
              "      <td>Steak Burrito</td>\n",
              "      <td>[Roasted Chili Corn Salsa, [Rice, Black Beans,...</td>\n",
              "      <td>11.75</td>\n",
              "    </tr>\n",
              "    <tr>\n",
              "      <th>3705</th>\n",
              "      <td>1483</td>\n",
              "      <td>1</td>\n",
              "      <td>Steak Soft Tacos</td>\n",
              "      <td>[Fresh Tomato Salsa, [Fajita Vegetables, Black...</td>\n",
              "      <td>9.25</td>\n",
              "    </tr>\n",
              "    <tr>\n",
              "      <th>3706</th>\n",
              "      <td>1483</td>\n",
              "      <td>1</td>\n",
              "      <td>Chicken Salad Bowl</td>\n",
              "      <td>[Roasted Chili Corn Salsa, [Pinto Beans, Chees...</td>\n",
              "      <td>8.75</td>\n",
              "    </tr>\n",
              "    <tr>\n",
              "      <th>3707</th>\n",
              "      <td>1483</td>\n",
              "      <td>1</td>\n",
              "      <td>Steak Bowl</td>\n",
              "      <td>[Roasted Chili Corn Salsa, [Black Beans, Chees...</td>\n",
              "      <td>9.25</td>\n",
              "    </tr>\n",
              "    <tr>\n",
              "      <th>3708</th>\n",
              "      <td>1483</td>\n",
              "      <td>1</td>\n",
              "      <td>Chicken Bowl</td>\n",
              "      <td>[Fresh Tomato Salsa, [Rice, Black Beans, Sour ...</td>\n",
              "      <td>8.75</td>\n",
              "    </tr>\n",
              "    <tr>\n",
              "      <th>3709</th>\n",
              "      <td>1483</td>\n",
              "      <td>1</td>\n",
              "      <td>Chicken Bowl</td>\n",
              "      <td>[Roasted Chili Corn Salsa, [Rice, Black Beans,...</td>\n",
              "      <td>11.25</td>\n",
              "    </tr>\n",
              "    <tr>\n",
              "      <th>3710</th>\n",
              "      <td>1483</td>\n",
              "      <td>1</td>\n",
              "      <td>Steak Soft Tacos</td>\n",
              "      <td>[Fresh Tomato Salsa, Guacamole]</td>\n",
              "      <td>11.75</td>\n",
              "    </tr>\n",
              "    <tr>\n",
              "      <th>3711</th>\n",
              "      <td>1483</td>\n",
              "      <td>1</td>\n",
              "      <td>Carnitas Bowl</td>\n",
              "      <td>[Fresh Tomato Salsa, [Fajita Vegetables, Rice,...</td>\n",
              "      <td>9.25</td>\n",
              "    </tr>\n",
              "    <tr>\n",
              "      <th>3712</th>\n",
              "      <td>1483</td>\n",
              "      <td>1</td>\n",
              "      <td>Chicken Salad Bowl</td>\n",
              "      <td>[Roasted Chili Corn Salsa, [Black Beans, Chees...</td>\n",
              "      <td>8.75</td>\n",
              "    </tr>\n",
              "    <tr>\n",
              "      <th>3713</th>\n",
              "      <td>1483</td>\n",
              "      <td>1</td>\n",
              "      <td>Steak Bowl</td>\n",
              "      <td>[Roasted Chili Corn Salsa, [Rice, Black Beans,...</td>\n",
              "      <td>11.75</td>\n",
              "    </tr>\n",
              "  </tbody>\n",
              "</table>\n",
              "</div>"
            ],
            "text/plain": [
              "      order_id  quantity                     item_name  \\\n",
              "2304       926         1                 Steak Burrito   \n",
              "2305       926         1                  Chicken Bowl   \n",
              "2306       926         1                  Chicken Bowl   \n",
              "2307       926         1                  Chicken Bowl   \n",
              "2308       926         1                    Steak Bowl   \n",
              "2309       926         1                  Chicken Bowl   \n",
              "2310       926         1                 Steak Burrito   \n",
              "2311       926         1               Chicken Burrito   \n",
              "2312       926         1                  Chicken Bowl   \n",
              "2313       926         1                  Chicken Bowl   \n",
              "2314       926         1            Chicken Salad Bowl   \n",
              "2315       926         1                    Steak Bowl   \n",
              "2316       926         1               Chicken Burrito   \n",
              "2317       926         1                    Steak Bowl   \n",
              "2318       926         1                  Chicken Bowl   \n",
              "2319       926         1                    Steak Bowl   \n",
              "2320       926         1               Chicken Burrito   \n",
              "2321       926         1                  Chicken Bowl   \n",
              "2322       926         1                  Chicken Bowl   \n",
              "2323       926         1              Barbacoa Burrito   \n",
              "2324       926         1               Chicken Burrito   \n",
              "2325       926         1                    Steak Bowl   \n",
              "2326       926         1                   Veggie Bowl   \n",
              "3598      1443        15  Chips and Fresh Tomato Salsa   \n",
              "3599      1443         7                 Bottled Water   \n",
              "3600      1443         1             6 Pack Soft Drink   \n",
              "3601      1443         3                Veggie Burrito   \n",
              "3602      1443         4               Chicken Burrito   \n",
              "3603      1443         3                 Steak Burrito   \n",
              "3604      1443         2                 Bottled Water   \n",
              "3700      1483         1                  Chicken Bowl   \n",
              "3701      1483         1                    Steak Bowl   \n",
              "3702      1483         1               Chicken Burrito   \n",
              "3703      1483         1                    Steak Bowl   \n",
              "3704      1483         1                 Steak Burrito   \n",
              "3705      1483         1              Steak Soft Tacos   \n",
              "3706      1483         1            Chicken Salad Bowl   \n",
              "3707      1483         1                    Steak Bowl   \n",
              "3708      1483         1                  Chicken Bowl   \n",
              "3709      1483         1                  Chicken Bowl   \n",
              "3710      1483         1              Steak Soft Tacos   \n",
              "3711      1483         1                 Carnitas Bowl   \n",
              "3712      1483         1            Chicken Salad Bowl   \n",
              "3713      1483         1                    Steak Bowl   \n",
              "\n",
              "                                     choice_description  item_price  \n",
              "2304  [Fresh Tomato Salsa, [Rice, Sour Cream, Lettuce]]        9.25  \n",
              "2305  [Roasted Chili Corn Salsa, [Fajita Vegetables,...        8.75  \n",
              "2306  [Roasted Chili Corn Salsa, [Fajita Vegetables,...        8.75  \n",
              "2307  [Roasted Chili Corn Salsa, [Fajita Vegetables,...        8.75  \n",
              "2308  [Fresh Tomato Salsa, [Rice, Black Beans, Lettu...        9.25  \n",
              "2309  [Fresh Tomato Salsa, [Rice, Black Beans, Chees...        8.75  \n",
              "2310  [Roasted Chili Corn Salsa, [Rice, Cheese, Sour...        9.25  \n",
              "2311  [Fresh Tomato Salsa, [Rice, Black Beans, Chees...        8.75  \n",
              "2312              [Fresh Tomato Salsa, [Rice, Lettuce]]        8.75  \n",
              "2313  [Fresh Tomato Salsa, [Rice, Cheese, Sour Cream...        8.75  \n",
              "2314     [Roasted Chili Corn Salsa, [Rice, Sour Cream]]        8.75  \n",
              "2315  [Fresh Tomato Salsa, [Rice, Black Beans, Chees...        9.25  \n",
              "2316  [Roasted Chili Corn Salsa, [Rice, Black Beans,...        8.75  \n",
              "2317  [Roasted Chili Corn Salsa, [Rice, Black Beans,...        9.25  \n",
              "2318  [Roasted Chili Corn Salsa, [Fajita Vegetables,...        8.75  \n",
              "2319               [Fresh Tomato Salsa, [Rice, Cheese]]        9.25  \n",
              "2320      [Fresh Tomato Salsa, [Rice, Cheese, Lettuce]]        8.75  \n",
              "2321  [Roasted Chili Corn Salsa, [Rice, Pinto Beans,...        8.75  \n",
              "2322         [Roasted Chili Corn Salsa, [Rice, Cheese]]        8.75  \n",
              "2323  [Fresh Tomato Salsa, [Rice, Black Beans, Chees...        9.25  \n",
              "2324  [Tomatillo Red Chili Salsa, [Rice, Cheese, Sou...        8.75  \n",
              "2325  [Tomatillo Red Chili Salsa, [Rice, Black Beans...        9.25  \n",
              "2326  [Roasted Chili Corn Salsa, [Rice, Black Beans,...        8.75  \n",
              "3598                                                NaN       44.25  \n",
              "3599                                                NaN       10.50  \n",
              "3600                                             [Coke]        6.49  \n",
              "3601  [Fresh Tomato Salsa, [Fajita Vegetables, Rice,...       33.75  \n",
              "3602  [Fresh Tomato Salsa, [Rice, Black Beans, Chees...       35.00  \n",
              "3603  [Fresh Tomato Salsa, [Rice, Black Beans, Chees...       27.75  \n",
              "3604                                                NaN        3.00  \n",
              "3700  [Roasted Chili Corn Salsa, [Rice, Black Beans,...        8.75  \n",
              "3701  [Roasted Chili Corn Salsa, [Fajita Vegetables,...       11.75  \n",
              "3702  [Tomatillo Red Chili Salsa, [Fajita Vegetables...        8.75  \n",
              "3703  [Roasted Chili Corn Salsa, [Fajita Vegetables,...        9.25  \n",
              "3704  [Roasted Chili Corn Salsa, [Rice, Black Beans,...       11.75  \n",
              "3705  [Fresh Tomato Salsa, [Fajita Vegetables, Black...        9.25  \n",
              "3706  [Roasted Chili Corn Salsa, [Pinto Beans, Chees...        8.75  \n",
              "3707  [Roasted Chili Corn Salsa, [Black Beans, Chees...        9.25  \n",
              "3708  [Fresh Tomato Salsa, [Rice, Black Beans, Sour ...        8.75  \n",
              "3709  [Roasted Chili Corn Salsa, [Rice, Black Beans,...       11.25  \n",
              "3710                    [Fresh Tomato Salsa, Guacamole]       11.75  \n",
              "3711  [Fresh Tomato Salsa, [Fajita Vegetables, Rice,...        9.25  \n",
              "3712  [Roasted Chili Corn Salsa, [Black Beans, Chees...        8.75  \n",
              "3713  [Roasted Chili Corn Salsa, [Rice, Black Beans,...       11.75  "
            ]
          },
          "metadata": {
            "tags": []
          },
          "execution_count": 108
        }
      ]
    },
    {
      "cell_type": "markdown",
      "metadata": {
        "id": "GMEh4sKebXx9"
      },
      "source": [
        "# 查詢最不熱賣的商品"
      ]
    },
    {
      "cell_type": "code",
      "metadata": {
        "id": "ubHANopLbhtT"
      },
      "source": [
        ""
      ],
      "execution_count": null,
      "outputs": []
    },
    {
      "cell_type": "markdown",
      "metadata": {
        "id": "A2cuj_WrbjcS"
      },
      "source": [
        "# 圖表呈現"
      ]
    },
    {
      "cell_type": "code",
      "metadata": {
        "id": "vrMwefAIbmh4"
      },
      "source": [
        ""
      ],
      "execution_count": null,
      "outputs": []
    }
  ]
}